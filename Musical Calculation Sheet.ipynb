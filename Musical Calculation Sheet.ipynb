{
 "cells": [
  {
   "cell_type": "code",
   "execution_count": 24,
   "id": "013620f3",
   "metadata": {},
   "outputs": [],
   "source": [
    "import re\n",
    "\n",
    "from math import sqrt\n",
    "\n",
    "\n",
    "SPEED_OF_SOUND = 343\n",
    "\n",
    "NOTE_RE = re.compile(\"^([A-G][b#]?)(\\d*)$\")\n",
    "SEMITONES_FROM_A = {\n",
    "    \"C\": -9,\n",
    "    \"C#\": -8,\n",
    "    \"Db\": -8,\n",
    "    \"D\": -7,\n",
    "    \"D#\": -6,\n",
    "    \"Eb\": -6,\n",
    "    \"E\": -5,\n",
    "    \"F\": -4,\n",
    "    \"F#\": -3,\n",
    "    \"Gb\": -3,\n",
    "    \"G\": -2,\n",
    "    \"G#\": -1,\n",
    "    \"Ab\": -1,\n",
    "    \"A\": 0,\n",
    "    \"A#\": 1,\n",
    "    \"Bb\": 1,\n",
    "    \"B\": 2,\n",
    "}"
   ]
  },
  {
   "cell_type": "markdown",
   "id": "230f1937",
   "metadata": {},
   "source": [
    "### Reverb\n",
    "\n",
    "Realistic predelay times"
   ]
  },
  {
   "cell_type": "code",
   "execution_count": 25,
   "id": "880cdd89",
   "metadata": {},
   "outputs": [],
   "source": [
    "def close_predelay_to_room_width(predelay_time_ms):\n",
    "    return predelay_time_ms / 1000 * SPEED_OF_SOUND"
   ]
  },
  {
   "cell_type": "code",
   "execution_count": 26,
   "id": "1dae23f4",
   "metadata": {},
   "outputs": [
    {
     "data": {
      "text/plain": [
       "17"
      ]
     },
     "execution_count": 26,
     "metadata": {},
     "output_type": "execute_result"
    }
   ],
   "source": [
    "room_width = close_predelay_to_room_width(50)\n",
    "int(room_width)"
   ]
  },
  {
   "cell_type": "code",
   "execution_count": 27,
   "id": "f138c082",
   "metadata": {},
   "outputs": [],
   "source": [
    "def distance_to_predelay(room_width, distance_to_listener):\n",
    "    \"\"\"Given a room of `room_width` meters and the sound source is `distance_to_listener'\n",
    "    meters away. What time (in ms) will the early reflection arrive after the direct source\"\"\"\n",
    "    early_reflection = sqrt(distance_to_listener**2 + room_width**2)\n",
    "    path_difference = early_reflection - distance_to_listener\n",
    "    return path_difference / SPEED_OF_SOUND * 1000\n",
    "    "
   ]
  },
  {
   "cell_type": "code",
   "execution_count": 28,
   "id": "6bbe47fd",
   "metadata": {},
   "outputs": [
    {
     "data": {
      "text/plain": [
       "58"
      ]
     },
     "execution_count": 28,
     "metadata": {},
     "output_type": "execute_result"
    }
   ],
   "source": [
    "# If the room 20m wide and the listener and sound source are central\n",
    "# what pre-delay would mimic a source next to the listener\n",
    "int(distance_to_predelay(room_width=20, distance_to_listener=0))"
   ]
  },
  {
   "cell_type": "code",
   "execution_count": 29,
   "id": "faecef2c",
   "metadata": {},
   "outputs": [
    {
     "data": {
      "text/plain": [
       "36"
      ]
     },
     "execution_count": 29,
     "metadata": {},
     "output_type": "execute_result"
    }
   ],
   "source": [
    "# What about if the source was 10m back...\n",
    "int(distance_to_predelay(20, distance_to_listener=10))"
   ]
  },
  {
   "cell_type": "code",
   "execution_count": 30,
   "id": "f0ce2393",
   "metadata": {},
   "outputs": [],
   "source": [
    "def predelay_to_distance(width, predelay_time_ms):\n",
    "    \"\"\"Given a predelay time in ms - what distance to the source is it simulating?\"\"\"\n",
    "    predelay_time = predelay_time_ms / 1000\n",
    "    res = width**2 - SPEED_OF_SOUND**2 * predelay_time**2\n",
    "    res /= 2 * SPEED_OF_SOUND * predelay_time\n",
    "    return res"
   ]
  },
  {
   "cell_type": "code",
   "execution_count": 31,
   "id": "dbaefbaf",
   "metadata": {},
   "outputs": [
    {
     "data": {
      "text/plain": [
       "10"
      ]
     },
     "execution_count": 31,
     "metadata": {},
     "output_type": "execute_result"
    }
   ],
   "source": [
    "int(predelay_to_distance(20, 36))"
   ]
  },
  {
   "cell_type": "code",
   "execution_count": 32,
   "id": "11fb5e20",
   "metadata": {},
   "outputs": [
    {
     "data": {
      "text/plain": [
       "291"
      ]
     },
     "execution_count": 32,
     "metadata": {},
     "output_type": "execute_result"
    }
   ],
   "source": [
    "# With a very short pre-delay such that the source and reflection arrive nearly the same time.\n",
    "int(predelay_to_distance(20, 2))"
   ]
  },
  {
   "cell_type": "markdown",
   "id": "d60fc3f6",
   "metadata": {},
   "source": [
    "### Compression\n",
    "\n",
    "Tools for working out ratios when working with compression"
   ]
  },
  {
   "cell_type": "code",
   "execution_count": 33,
   "id": "d8c076a0",
   "metadata": {},
   "outputs": [],
   "source": [
    "def get_output_level(threshold, ratio, input_level):\n",
    "    \"\"\"What output level would I get with the threshold and ratio?\"\"\"\n",
    "    if input_level <= threshold:\n",
    "        return input_level\n",
    "    \n",
    "    return threshold  + (input_level - threshold) / ratio"
   ]
  },
  {
   "cell_type": "code",
   "execution_count": 34,
   "id": "a4f2d3f1",
   "metadata": {},
   "outputs": [
    {
     "data": {
      "text/plain": [
       "-7"
      ]
     },
     "execution_count": 34,
     "metadata": {},
     "output_type": "execute_result"
    }
   ],
   "source": [
    "# If the input level is below the threshold it won't change...\n",
    "output_level(threshold=-6, ratio=2, input_level=-7)"
   ]
  },
  {
   "cell_type": "code",
   "execution_count": 35,
   "id": "b1e315b1",
   "metadata": {},
   "outputs": [
    {
     "data": {
      "text/plain": [
       "-4.0"
      ]
     },
     "execution_count": 35,
     "metadata": {},
     "output_type": "execute_result"
    }
   ],
   "source": [
    "# Above the threshold the signal is compressed\n",
    "output_level(threshold=-6, ratio=2, input_level=-2)"
   ]
  },
  {
   "cell_type": "code",
   "execution_count": 36,
   "id": "8eed9954",
   "metadata": {},
   "outputs": [],
   "source": [
    "def get_threshold(ratio, input_level, output_level):\n",
    "    \"\"\"What threshold should I set for a desired output level?\"\"\"\n",
    "    assert input_level > output_level\n",
    "    return (ratio * output_level - input_level) / (ratio - 1)"
   ]
  },
  {
   "cell_type": "code",
   "execution_count": 37,
   "id": "8690c556",
   "metadata": {},
   "outputs": [
    {
     "data": {
      "text/plain": [
       "-6.0"
      ]
     },
     "execution_count": 37,
     "metadata": {},
     "output_type": "execute_result"
    }
   ],
   "source": [
    "# From the above example what threshold would I set to get a 2dB reduction with a 2:1 ratio\n",
    "get_threshold(ratio=2, input_level=-2, output_level=-4)"
   ]
  },
  {
   "cell_type": "markdown",
   "id": "8b4b649d",
   "metadata": {},
   "source": [
    "### Frequency"
   ]
  },
  {
   "cell_type": "code",
   "execution_count": 38,
   "id": "aee6c510",
   "metadata": {},
   "outputs": [],
   "source": [
    "def equal_temp_note_freq(note, a4_freq=440):\n",
    "    \"\"\"What's the frequency of a note (format: LETTEROCTAVE eg C#4)\"\"\"\n",
    "    match = NOTE_RE.match(note)\n",
    "    if not match:\n",
    "        raise ValueError(f'Invalid Note format: {note}, should be of the form LETTEROCTAVE (Gb3)')\n",
    "    \n",
    "    note, num = match.groups()\n",
    "    num = int(num)\n",
    "    a_freq = a4_freq * 2**(num - 4)\n",
    "    return a_freq * 2**(SEMITONES_FROM_A[note]/12)"
   ]
  },
  {
   "cell_type": "code",
   "execution_count": 39,
   "id": "e4ddbc24",
   "metadata": {},
   "outputs": [
    {
     "data": {
      "text/plain": [
       "440.0"
      ]
     },
     "execution_count": 39,
     "metadata": {},
     "output_type": "execute_result"
    }
   ],
   "source": [
    "equal_temp_note_freq(\"A4\")"
   ]
  },
  {
   "cell_type": "code",
   "execution_count": 40,
   "id": "642cfbbb",
   "metadata": {},
   "outputs": [
    {
     "data": {
      "text/plain": [
       "65.40639132514966"
      ]
     },
     "execution_count": 40,
     "metadata": {},
     "output_type": "execute_result"
    }
   ],
   "source": [
    "equal_temp_note_freq(\"C2\")"
   ]
  },
  {
   "cell_type": "code",
   "execution_count": 42,
   "id": "8d1ac296",
   "metadata": {},
   "outputs": [],
   "source": [
    "def beat_freq_between_notes(note_1, note_2):\n",
    "    \"\"\"Given two notes - what is the frequency (in Hz) of the resulting beats\n",
    "    as they go in and out of phase\"\"\"\n",
    "    return abs(equal_temp_note_freq(note_1) - equal_temp_note_freq(note_2))"
   ]
  },
  {
   "cell_type": "code",
   "execution_count": 43,
   "id": "5e47a12c",
   "metadata": {},
   "outputs": [
    {
     "data": {
      "text/plain": [
       "26.163761518089927"
      ]
     },
     "execution_count": 43,
     "metadata": {},
     "output_type": "execute_result"
    }
   ],
   "source": [
    "#What would the frequency of the beats between A4 and A#4\n",
    "beat_freq_between_notes('A4', 'A#4')"
   ]
  },
  {
   "cell_type": "code",
   "execution_count": null,
   "id": "96e5942f",
   "metadata": {},
   "outputs": [],
   "source": []
  }
 ],
 "metadata": {
  "kernelspec": {
   "display_name": "Python 3 (ipykernel)",
   "language": "python",
   "name": "python3"
  },
  "language_info": {
   "codemirror_mode": {
    "name": "ipython",
    "version": 3
   },
   "file_extension": ".py",
   "mimetype": "text/x-python",
   "name": "python",
   "nbconvert_exporter": "python",
   "pygments_lexer": "ipython3",
   "version": "3.9.11"
  }
 },
 "nbformat": 4,
 "nbformat_minor": 5
}
